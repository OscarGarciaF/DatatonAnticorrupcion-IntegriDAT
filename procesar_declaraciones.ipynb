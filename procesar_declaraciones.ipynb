{
 "cells": [
  {
   "cell_type": "code",
   "execution_count": 1,
   "metadata": {},
   "outputs": [],
   "source": [
    "import pandas as pd\n",
    "import numpy as np\n",
    "import os\n",
    "import glob\n",
    "import json\n",
    "import datetime\n",
    "from dateutil.parser import parse\n",
    "import gc"
   ]
  },
  {
   "cell_type": "code",
   "execution_count": 2,
   "metadata": {},
   "outputs": [],
   "source": [
    "declaracion = pd.read_pickle(\"s1_declaracion.pkl\")"
   ]
  },
  {
   "cell_type": "code",
   "execution_count": 3,
   "metadata": {},
   "outputs": [],
   "source": [
    "def parse_date(x):\n",
    "    try:\n",
    "        return parse(x)\n",
    "    except:\n",
    "        return np.datetime64('NaT')"
   ]
  },
  {
   "cell_type": "code",
   "execution_count": 4,
   "metadata": {},
   "outputs": [
    {
     "data": {
      "text/plain": [
       "Index(['situacionPatrimonial.datosGenerales.nombre',\n",
       "       'situacionPatrimonial.datosGenerales.primerApellido',\n",
       "       'situacionPatrimonial.datosGenerales.segundoApellido',\n",
       "       'situacionPatrimonial.datosGenerales.correoElectronico.institucional',\n",
       "       'situacionPatrimonial.datosCurricularesDeclarante.escolaridad',\n",
       "       'situacionPatrimonial.datosEmpleoCargoComision.tipoOperacion',\n",
       "       'situacionPatrimonial.datosEmpleoCargoComision.nivelOrdenGobierno',\n",
       "       'situacionPatrimonial.datosEmpleoCargoComision.ambitoPublico',\n",
       "       'situacionPatrimonial.datosEmpleoCargoComision.nombreEntePublico',\n",
       "       'situacionPatrimonial.datosEmpleoCargoComision.areaAdscripcion',\n",
       "       ...\n",
       "       'situacionPatrimonial.ingresos.otrosIngresosAnualesTotal',\n",
       "       'situacionPatrimonial.ingresos.remuneracionConclusionCargoPublico',\n",
       "       'situacionPatrimonial.ingresos.ingresoConclusionNetoDeclarante',\n",
       "       'situacionPatrimonial.ingresos.totalIngresosConclusionNetos',\n",
       "       'situacionPatrimonial.ingresos.ingresoConclusionNetoParejaDependiente',\n",
       "       'situacionPatrimonial.ingresos.remuneracionMensualCargoPublico',\n",
       "       'situacionPatrimonial.ingresos.otrosIngresosMensualesTotal',\n",
       "       'situacionPatrimonial.ingresos.ingresoMensualNetoDeclarante',\n",
       "       'situacionPatrimonial.ingresos.ingresoMensualNetoParejaDependiente',\n",
       "       'situacionPatrimonial.ingresos.totalIngresosMensualesNetos'],\n",
       "      dtype='object', length=376)"
      ]
     },
     "execution_count": 4,
     "metadata": {},
     "output_type": "execute_result"
    }
   ],
   "source": [
    "declaracion.columns"
   ]
  },
  {
   "cell_type": "code",
   "execution_count": 21,
   "metadata": {},
   "outputs": [],
   "source": [
    "declaracion[\"situacionPatrimonial.datosGenerales.nombre\"] = declaracion[\"situacionPatrimonial.datosGenerales.nombre\"].fillna(\"\")\n",
    "declaracion[\"situacionPatrimonial.datosGenerales.primerApellido\"] = declaracion[\"situacionPatrimonial.datosGenerales.primerApellido\"].fillna(\"\")\n",
    "declaracion[\"situacionPatrimonial.datosGenerales.segundoApellido\"] = declaracion[\"situacionPatrimonial.datosGenerales.segundoApellido\"].fillna(\"\")\n",
    "\n",
    "declaracion[\"nombre_declaracion\"] = declaracion[\"situacionPatrimonial.datosGenerales.nombre\"] + \" \" \\\n",
    "+ declaracion[\"situacionPatrimonial.datosGenerales.primerApellido\"] + \" \" \\\n",
    "+ declaracion[\"situacionPatrimonial.datosGenerales.segundoApellido\"]\n",
    "\n",
    "declaracion[\"nombre_declaracion\"] = declaracion[\"nombre_declaracion\"].str.lower().str.strip()\n",
    "declaracion[\"nombre_declaracion\"] = declaracion[\"nombre_declaracion\"].str.normalize('NFKD').str.encode('ascii', errors='ignore').str.decode('utf-8')\n",
    "\n",
    "declaracion [\"fechaTomaPosesion\"] =  declaracion[\"situacionPatrimonial.datosEmpleoCargoComision.fechaTomaPosesion\"].apply(parse_date)\n",
    "\n",
    "columnas = [\"nombre_declaracion\" , \"fechaTomaPosesion\"]\n",
    "declaracion_target = declaracion[columnas]"
   ]
  },
  {
   "cell_type": "code",
   "execution_count": 22,
   "metadata": {},
   "outputs": [
    {
     "data": {
      "text/html": [
       "<div>\n",
       "<style scoped>\n",
       "    .dataframe tbody tr th:only-of-type {\n",
       "        vertical-align: middle;\n",
       "    }\n",
       "\n",
       "    .dataframe tbody tr th {\n",
       "        vertical-align: top;\n",
       "    }\n",
       "\n",
       "    .dataframe thead th {\n",
       "        text-align: right;\n",
       "    }\n",
       "</style>\n",
       "<table border=\"1\" class=\"dataframe\">\n",
       "  <thead>\n",
       "    <tr style=\"text-align: right;\">\n",
       "      <th></th>\n",
       "      <th>nombre_declaracion</th>\n",
       "      <th>fechaTomaPosesion</th>\n",
       "    </tr>\n",
       "  </thead>\n",
       "  <tbody>\n",
       "    <tr>\n",
       "      <th>0</th>\n",
       "      <td>adrian hernandez hernandez</td>\n",
       "      <td>2011-03-01 00:00:00</td>\n",
       "    </tr>\n",
       "    <tr>\n",
       "      <th>1</th>\n",
       "      <td>abigain yareli hernandez cruz</td>\n",
       "      <td>2018-04-01 00:00:00</td>\n",
       "    </tr>\n",
       "    <tr>\n",
       "      <th>2</th>\n",
       "      <td>adelfo hernandez nieto</td>\n",
       "      <td>1992-11-01 00:00:00</td>\n",
       "    </tr>\n",
       "    <tr>\n",
       "      <th>3</th>\n",
       "      <td>adrian emilio madrigal gonzalez</td>\n",
       "      <td>2019-11-16 00:00:00</td>\n",
       "    </tr>\n",
       "    <tr>\n",
       "      <th>4</th>\n",
       "      <td>abel lemus torres</td>\n",
       "      <td>2021-05-07 00:00:00</td>\n",
       "    </tr>\n",
       "    <tr>\n",
       "      <th>...</th>\n",
       "      <td>...</td>\n",
       "      <td>...</td>\n",
       "    </tr>\n",
       "    <tr>\n",
       "      <th>1354292</th>\n",
       "      <td>zulema lineth hernandez sanchez</td>\n",
       "      <td>2014-09-05 00:00:00</td>\n",
       "    </tr>\n",
       "    <tr>\n",
       "      <th>1354293</th>\n",
       "      <td>zulema lineth hernandez sanchez</td>\n",
       "      <td>2014-09-05 00:00:00</td>\n",
       "    </tr>\n",
       "    <tr>\n",
       "      <th>1354294</th>\n",
       "      <td>zulma veronica casas chavez</td>\n",
       "      <td>2000-08-01 00:00:00</td>\n",
       "    </tr>\n",
       "    <tr>\n",
       "      <th>1354295</th>\n",
       "      <td>zulma veronica casas chavez</td>\n",
       "      <td>2000-08-01 00:00:00</td>\n",
       "    </tr>\n",
       "    <tr>\n",
       "      <th>1354296</th>\n",
       "      <td>zulma veronica casas chavez</td>\n",
       "      <td>2000-08-01 00:00:00</td>\n",
       "    </tr>\n",
       "  </tbody>\n",
       "</table>\n",
       "<p>1354297 rows × 2 columns</p>\n",
       "</div>"
      ],
      "text/plain": [
       "                      nombre_declaracion    fechaTomaPosesion\n",
       "0             adrian hernandez hernandez  2011-03-01 00:00:00\n",
       "1          abigain yareli hernandez cruz  2018-04-01 00:00:00\n",
       "2                 adelfo hernandez nieto  1992-11-01 00:00:00\n",
       "3        adrian emilio madrigal gonzalez  2019-11-16 00:00:00\n",
       "4                      abel lemus torres  2021-05-07 00:00:00\n",
       "...                                  ...                  ...\n",
       "1354292  zulema lineth hernandez sanchez  2014-09-05 00:00:00\n",
       "1354293  zulema lineth hernandez sanchez  2014-09-05 00:00:00\n",
       "1354294      zulma veronica casas chavez  2000-08-01 00:00:00\n",
       "1354295      zulma veronica casas chavez  2000-08-01 00:00:00\n",
       "1354296      zulma veronica casas chavez  2000-08-01 00:00:00\n",
       "\n",
       "[1354297 rows x 2 columns]"
      ]
     },
     "execution_count": 22,
     "metadata": {},
     "output_type": "execute_result"
    }
   ],
   "source": [
    "declaracion_target"
   ]
  },
  {
   "cell_type": "code",
   "execution_count": 29,
   "metadata": {},
   "outputs": [
    {
     "name": "stderr",
     "output_type": "stream",
     "text": [
      "C:\\Users\\garci\\AppData\\Local\\Temp\\ipykernel_12900\\1904553372.py:1: PerformanceWarning: \n",
      "your performance may suffer as PyTables will pickle object types that it cannot\n",
      "map directly to c-types [inferred_type->mixed,key->block0_values] [items->Index(['nombre_declaracion', 'fechaTomaPosesion'], dtype='object')]\n",
      "\n",
      "  declaracion_target.to_hdf(\"s1_fecha_toma_posesion.h5\", key = \"df\")\n"
     ]
    }
   ],
   "source": [
    "declaracion_target.to_hdf(\"s1_fecha_toma_posesion.h5\", key = \"df\")"
   ]
  },
  {
   "cell_type": "code",
   "execution_count": null,
   "metadata": {},
   "outputs": [],
   "source": []
  }
 ],
 "metadata": {
  "kernelspec": {
   "display_name": ".venv",
   "language": "python",
   "name": "python3"
  },
  "language_info": {
   "codemirror_mode": {
    "name": "ipython",
    "version": 3
   },
   "file_extension": ".py",
   "mimetype": "text/x-python",
   "name": "python",
   "nbconvert_exporter": "python",
   "pygments_lexer": "ipython3",
   "version": "3.11.4"
  }
 },
 "nbformat": 4,
 "nbformat_minor": 2
}
