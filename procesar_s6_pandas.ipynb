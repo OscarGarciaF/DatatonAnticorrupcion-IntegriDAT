{
 "cells": [
  {
   "cell_type": "code",
   "execution_count": 28,
   "metadata": {},
   "outputs": [],
   "source": [
    "import pandas as pd\n",
    "import numpy as np\n",
    "import os\n",
    "import glob\n",
    "import json\n",
    "import datetime\n",
    "from dateutil.parser import parse\n",
    "import gc\n",
    "from tqdm import tqdm\n",
    "tqdm.pandas()"
   ]
  },
  {
   "cell_type": "code",
   "execution_count": 2,
   "metadata": {},
   "outputs": [],
   "source": [
    "#s6_df = pd.read_json(\"ver_releases.json\")\n",
    "all_files_s6 = glob.glob(os.path.join(\"bulk-s6\" , \"*.json\"))\n",
    "s6_df_from_each_file = (pd.read_json(f) for f in all_files_s6)\n",
    "s6_df = pd.concat(s6_df_from_each_file, ignore_index=True)\n",
    "del s6_df_from_each_file"
   ]
  },
  {
   "cell_type": "code",
   "execution_count": 3,
   "metadata": {},
   "outputs": [
    {
     "data": {
      "text/plain": [
       "Index(['_id', 'id', 'initiationType', 'ocid', 'date', 'tag', 'parties',\n",
       "       'planning', 'tender', 'awards', 'contracts', 'language', 'buyer',\n",
       "       'cycle', 'publisher', 'dependencia', 'metadata', 'metadatos',\n",
       "       'publicar', 'implementation'],\n",
       "      dtype='object')"
      ]
     },
     "execution_count": 3,
     "metadata": {},
     "output_type": "execute_result"
    }
   ],
   "source": [
    "s6_df.columns"
   ]
  },
  {
   "cell_type": "code",
   "execution_count": 4,
   "metadata": {},
   "outputs": [],
   "source": [
    "s6_df['_id.$oid'] = s6_df['_id'].apply(lambda x: x.get('$oid'))"
   ]
  },
  {
   "cell_type": "code",
   "execution_count": 5,
   "metadata": {},
   "outputs": [],
   "source": [
    "keep_cols = ['_id.$oid', \"ocid\", \"id\", \"parties\", \"awards\"]\n",
    "s6_df = s6_df[keep_cols]"
   ]
  },
  {
   "cell_type": "code",
   "execution_count": 6,
   "metadata": {},
   "outputs": [
    {
     "data": {
      "text/plain": [
       "Index(['_id.$oid', 'ocid', 'id', 'parties', 'awards'], dtype='object')"
      ]
     },
     "execution_count": 6,
     "metadata": {},
     "output_type": "execute_result"
    }
   ],
   "source": [
    "s6_df.columns"
   ]
  },
  {
   "cell_type": "code",
   "execution_count": 7,
   "metadata": {},
   "outputs": [
    {
     "data": {
      "text/html": [
       "<div>\n",
       "<style scoped>\n",
       "    .dataframe tbody tr th:only-of-type {\n",
       "        vertical-align: middle;\n",
       "    }\n",
       "\n",
       "    .dataframe tbody tr th {\n",
       "        vertical-align: top;\n",
       "    }\n",
       "\n",
       "    .dataframe thead th {\n",
       "        text-align: right;\n",
       "    }\n",
       "</style>\n",
       "<table border=\"1\" class=\"dataframe\">\n",
       "  <thead>\n",
       "    <tr style=\"text-align: right;\">\n",
       "      <th></th>\n",
       "      <th>_id.$oid</th>\n",
       "      <th>ocid</th>\n",
       "      <th>id</th>\n",
       "      <th>parties</th>\n",
       "      <th>awards</th>\n",
       "    </tr>\n",
       "  </thead>\n",
       "  <tbody>\n",
       "    <tr>\n",
       "      <th>0</th>\n",
       "      <td>62a913e7db2a665c4fce6223</td>\n",
       "      <td>ocds-ty10ed-03-06-2022-10:13:43</td>\n",
       "      <td>11</td>\n",
       "      <td>[{'name': 'SESEA AGUASCALIENTES', 'id': 'MX-RF...</td>\n",
       "      <td>[{'id': 9, 'title': 'SESEA/DGA/C001', 'descrip...</td>\n",
       "    </tr>\n",
       "    <tr>\n",
       "      <th>1</th>\n",
       "      <td>62a913e7db2a665c4fce6226</td>\n",
       "      <td>ocds-ty10ed-07-06-2022-10:37:52</td>\n",
       "      <td>14</td>\n",
       "      <td>[{'name': 'SESEA AGUASCALIENTES', 'id': 'MX-RF...</td>\n",
       "      <td>[{'id': 13, 'title': 'Póliza C00021', 'descrip...</td>\n",
       "    </tr>\n",
       "    <tr>\n",
       "      <th>2</th>\n",
       "      <td>62a913e7db2a665c4fce6225</td>\n",
       "      <td>ocds-ty10ed-06-06-2022-08:06:10</td>\n",
       "      <td>13</td>\n",
       "      <td>[{'name': 'SESEA AGUASCALIENTES', 'id': 'MX-RF...</td>\n",
       "      <td>[{'id': 12, 'title': 'SESEA/DGA/C004', 'descri...</td>\n",
       "    </tr>\n",
       "    <tr>\n",
       "      <th>3</th>\n",
       "      <td>62a913e7db2a665c4fce6227</td>\n",
       "      <td>ocds-ty10ed-13-06-2022-13:15:25</td>\n",
       "      <td>15</td>\n",
       "      <td>[{'name': 'SESEA AGUASCALIENTES', 'id': 'MX-RF...</td>\n",
       "      <td>[{'id': 16, 'title': 'Servicio de Auditoria y ...</td>\n",
       "    </tr>\n",
       "    <tr>\n",
       "      <th>4</th>\n",
       "      <td>62a913e7db2a665c4fce6222</td>\n",
       "      <td>ocds-ty10ed-02-06-2022-12:17:13</td>\n",
       "      <td>10</td>\n",
       "      <td>[{'name': 'Nissan Torres Corzo', 'id': 'MX-RFC...</td>\n",
       "      <td>[{'id': 8, 'title': 'SESEA/DGA/C003', 'descrip...</td>\n",
       "    </tr>\n",
       "  </tbody>\n",
       "</table>\n",
       "</div>"
      ],
      "text/plain": [
       "                   _id.$oid                             ocid  id  \\\n",
       "0  62a913e7db2a665c4fce6223  ocds-ty10ed-03-06-2022-10:13:43  11   \n",
       "1  62a913e7db2a665c4fce6226  ocds-ty10ed-07-06-2022-10:37:52  14   \n",
       "2  62a913e7db2a665c4fce6225  ocds-ty10ed-06-06-2022-08:06:10  13   \n",
       "3  62a913e7db2a665c4fce6227  ocds-ty10ed-13-06-2022-13:15:25  15   \n",
       "4  62a913e7db2a665c4fce6222  ocds-ty10ed-02-06-2022-12:17:13  10   \n",
       "\n",
       "                                             parties  \\\n",
       "0  [{'name': 'SESEA AGUASCALIENTES', 'id': 'MX-RF...   \n",
       "1  [{'name': 'SESEA AGUASCALIENTES', 'id': 'MX-RF...   \n",
       "2  [{'name': 'SESEA AGUASCALIENTES', 'id': 'MX-RF...   \n",
       "3  [{'name': 'SESEA AGUASCALIENTES', 'id': 'MX-RF...   \n",
       "4  [{'name': 'Nissan Torres Corzo', 'id': 'MX-RFC...   \n",
       "\n",
       "                                              awards  \n",
       "0  [{'id': 9, 'title': 'SESEA/DGA/C001', 'descrip...  \n",
       "1  [{'id': 13, 'title': 'Póliza C00021', 'descrip...  \n",
       "2  [{'id': 12, 'title': 'SESEA/DGA/C004', 'descri...  \n",
       "3  [{'id': 16, 'title': 'Servicio de Auditoria y ...  \n",
       "4  [{'id': 8, 'title': 'SESEA/DGA/C003', 'descrip...  "
      ]
     },
     "execution_count": 7,
     "metadata": {},
     "output_type": "execute_result"
    }
   ],
   "source": [
    "s6_df.head()"
   ]
  },
  {
   "cell_type": "code",
   "execution_count": 24,
   "metadata": {},
   "outputs": [],
   "source": [
    "def parse_date(x):\n",
    "    try:\n",
    "        return parse(x)\n",
    "    except:\n",
    "        return None\n",
    "\n",
    "def find_start_date(awards):\n",
    "    start_dates = []\n",
    "    end_dates = []\n",
    "    if awards is not list:\n",
    "        return np.datetime64('NaT'), np.datetime64('NaT')\n",
    "    for award in awards:\n",
    "        start_date = parse_date(award.get(\"contractPeriod\", {}).get(\"startDate\"))\n",
    "        if start_date:\n",
    "            start_dates.append(start_date)\n",
    "        end_date = parse_date(award.get(\"contractPeriod\",{}).get(\"endDate\"))\n",
    "        if end_date:\n",
    "            end_dates.append(end_date)\n",
    "    \n",
    "    if len(start_dates) > 0:\n",
    "        earliest_start = min(start_dates)\n",
    "    else:\n",
    "        earliest_start = np.datetime64('NaT')\n",
    "        \n",
    "    if len(start_dates) > 0:\n",
    "        oldest_end = max(end_dates)\n",
    "    else:\n",
    "        oldest_end = np.datetime64('NaT')\n",
    "\n",
    "    return earliest_start, oldest_end\n",
    "\n",
    "def find_dates_no_processing(awards):\n",
    "    start_dates = []\n",
    "    end_dates = []\n",
    "    if type(awards) is list:\n",
    "        for award in awards:\n",
    "            if type(award) is dict:\n",
    "                start_date = award.get(\"contractPeriod\", {}).get(\"startDate\")\n",
    "                start_dates.append(start_date)\n",
    "                end_date = award.get(\"contractPeriod\",{}).get(\"endDate\")\n",
    "                end_dates.append(end_date)\n",
    "        return start_dates, end_dates\n",
    "    else:\n",
    "        return [], []\n",
    "    "
   ]
  },
  {
   "cell_type": "code",
   "execution_count": 29,
   "metadata": {},
   "outputs": [
    {
     "name": "stderr",
     "output_type": "stream",
     "text": [
      "100%|██████████| 1061191/1061191 [01:12<00:00, 14713.63it/s]\n"
     ]
    }
   ],
   "source": [
    "res = s6_df.awards.progress_apply(find_dates_no_processing)"
   ]
  },
  {
   "cell_type": "code",
   "execution_count": 32,
   "metadata": {},
   "outputs": [],
   "source": [
    "s6_df[\"contractPeriod_startDate\"], s6_df[\"contractPeriod_endDate\"] = zip(*res)"
   ]
  },
  {
   "cell_type": "code",
   "execution_count": 35,
   "metadata": {},
   "outputs": [],
   "source": [
    "s6_df = s6_df.drop(columns=[\"awards\"])"
   ]
  },
  {
   "cell_type": "code",
   "execution_count": 36,
   "metadata": {},
   "outputs": [],
   "source": [
    "s6_df = s6_df.explode(\"parties\")"
   ]
  },
  {
   "cell_type": "code",
   "execution_count": 37,
   "metadata": {},
   "outputs": [
    {
     "data": {
      "text/html": [
       "<div>\n",
       "<style scoped>\n",
       "    .dataframe tbody tr th:only-of-type {\n",
       "        vertical-align: middle;\n",
       "    }\n",
       "\n",
       "    .dataframe tbody tr th {\n",
       "        vertical-align: top;\n",
       "    }\n",
       "\n",
       "    .dataframe thead th {\n",
       "        text-align: right;\n",
       "    }\n",
       "</style>\n",
       "<table border=\"1\" class=\"dataframe\">\n",
       "  <thead>\n",
       "    <tr style=\"text-align: right;\">\n",
       "      <th></th>\n",
       "      <th>_id.$oid</th>\n",
       "      <th>ocid</th>\n",
       "      <th>id</th>\n",
       "      <th>parties</th>\n",
       "      <th>contractPeriod_startDate</th>\n",
       "      <th>contractPeriod_endDate</th>\n",
       "    </tr>\n",
       "  </thead>\n",
       "  <tbody>\n",
       "    <tr>\n",
       "      <th>0</th>\n",
       "      <td>62a913e7db2a665c4fce6223</td>\n",
       "      <td>ocds-ty10ed-03-06-2022-10:13:43</td>\n",
       "      <td>11</td>\n",
       "      <td>{'name': 'SESEA AGUASCALIENTES', 'id': 'MX-RFC...</td>\n",
       "      <td>[2022-06-14T11:21:02Z]</td>\n",
       "      <td>[2022-06-14T11:21:02Z]</td>\n",
       "    </tr>\n",
       "    <tr>\n",
       "      <th>0</th>\n",
       "      <td>62a913e7db2a665c4fce6223</td>\n",
       "      <td>ocds-ty10ed-03-06-2022-10:13:43</td>\n",
       "      <td>11</td>\n",
       "      <td>{'name': 'Nissan Torres Corzo', 'id': 'MX-RFC-...</td>\n",
       "      <td>[2022-06-14T11:21:02Z]</td>\n",
       "      <td>[2022-06-14T11:21:02Z]</td>\n",
       "    </tr>\n",
       "    <tr>\n",
       "      <th>1</th>\n",
       "      <td>62a913e7db2a665c4fce6226</td>\n",
       "      <td>ocds-ty10ed-07-06-2022-10:37:52</td>\n",
       "      <td>14</td>\n",
       "      <td>{'name': 'SESEA AGUASCALIENTES', 'id': 'MX-RFC...</td>\n",
       "      <td>[2022-06-14T11:21:02Z]</td>\n",
       "      <td>[2022-06-14T11:21:02Z]</td>\n",
       "    </tr>\n",
       "    <tr>\n",
       "      <th>1</th>\n",
       "      <td>62a913e7db2a665c4fce6226</td>\n",
       "      <td>ocds-ty10ed-07-06-2022-10:37:52</td>\n",
       "      <td>14</td>\n",
       "      <td>{'name': 'Grant Limpieza y mantenimiento', 'id...</td>\n",
       "      <td>[2022-06-14T11:21:02Z]</td>\n",
       "      <td>[2022-06-14T11:21:02Z]</td>\n",
       "    </tr>\n",
       "    <tr>\n",
       "      <th>2</th>\n",
       "      <td>62a913e7db2a665c4fce6225</td>\n",
       "      <td>ocds-ty10ed-06-06-2022-08:06:10</td>\n",
       "      <td>13</td>\n",
       "      <td>{'name': 'SESEA AGUASCALIENTES', 'id': 'MX-RFC...</td>\n",
       "      <td>[2022-06-14T11:21:02Z]</td>\n",
       "      <td>[2022-06-14T11:21:02Z]</td>\n",
       "    </tr>\n",
       "  </tbody>\n",
       "</table>\n",
       "</div>"
      ],
      "text/plain": [
       "                   _id.$oid                             ocid  id  \\\n",
       "0  62a913e7db2a665c4fce6223  ocds-ty10ed-03-06-2022-10:13:43  11   \n",
       "0  62a913e7db2a665c4fce6223  ocds-ty10ed-03-06-2022-10:13:43  11   \n",
       "1  62a913e7db2a665c4fce6226  ocds-ty10ed-07-06-2022-10:37:52  14   \n",
       "1  62a913e7db2a665c4fce6226  ocds-ty10ed-07-06-2022-10:37:52  14   \n",
       "2  62a913e7db2a665c4fce6225  ocds-ty10ed-06-06-2022-08:06:10  13   \n",
       "\n",
       "                                             parties contractPeriod_startDate  \\\n",
       "0  {'name': 'SESEA AGUASCALIENTES', 'id': 'MX-RFC...   [2022-06-14T11:21:02Z]   \n",
       "0  {'name': 'Nissan Torres Corzo', 'id': 'MX-RFC-...   [2022-06-14T11:21:02Z]   \n",
       "1  {'name': 'SESEA AGUASCALIENTES', 'id': 'MX-RFC...   [2022-06-14T11:21:02Z]   \n",
       "1  {'name': 'Grant Limpieza y mantenimiento', 'id...   [2022-06-14T11:21:02Z]   \n",
       "2  {'name': 'SESEA AGUASCALIENTES', 'id': 'MX-RFC...   [2022-06-14T11:21:02Z]   \n",
       "\n",
       "   contractPeriod_endDate  \n",
       "0  [2022-06-14T11:21:02Z]  \n",
       "0  [2022-06-14T11:21:02Z]  \n",
       "1  [2022-06-14T11:21:02Z]  \n",
       "1  [2022-06-14T11:21:02Z]  \n",
       "2  [2022-06-14T11:21:02Z]  "
      ]
     },
     "execution_count": 37,
     "metadata": {},
     "output_type": "execute_result"
    }
   ],
   "source": [
    "s6_df.head()"
   ]
  },
  {
   "cell_type": "code",
   "execution_count": 43,
   "metadata": {},
   "outputs": [],
   "source": [
    "def extract_parties_names(parties):\n",
    "    if type(parties) is dict:\n",
    "        name = parties.get(\"name\")\n",
    "        contact = parties.get(\"contactPoint\", {}).get(\"name\")\n",
    "        return name, contact\n",
    "    else:\n",
    "        return \"\", \"\""
   ]
  },
  {
   "cell_type": "code",
   "execution_count": null,
   "metadata": {},
   "outputs": [],
   "source": [
    "res_contact = s6_df.parties.progress_apply(extract_parties_names)"
   ]
  },
  {
   "cell_type": "code",
   "execution_count": null,
   "metadata": {},
   "outputs": [],
   "source": [
    "s6_df[\"parties_name\"], s6_df[\"parties_contactPoint_name\"] = zip(*res_contact)"
   ]
  },
  {
   "cell_type": "code",
   "execution_count": null,
   "metadata": {},
   "outputs": [],
   "source": [
    "s6_df = s6_df.drop(columns=[\"parties\"])"
   ]
  },
  {
   "cell_type": "code",
   "execution_count": 40,
   "metadata": {},
   "outputs": [],
   "source": [
    "s6_df = s6_df.reset_index(drop = True)"
   ]
  },
  {
   "cell_type": "code",
   "execution_count": 41,
   "metadata": {},
   "outputs": [
    {
     "data": {
      "text/html": [
       "<div>\n",
       "<style scoped>\n",
       "    .dataframe tbody tr th:only-of-type {\n",
       "        vertical-align: middle;\n",
       "    }\n",
       "\n",
       "    .dataframe tbody tr th {\n",
       "        vertical-align: top;\n",
       "    }\n",
       "\n",
       "    .dataframe thead th {\n",
       "        text-align: right;\n",
       "    }\n",
       "</style>\n",
       "<table border=\"1\" class=\"dataframe\">\n",
       "  <thead>\n",
       "    <tr style=\"text-align: right;\">\n",
       "      <th></th>\n",
       "      <th>_id.$oid</th>\n",
       "      <th>ocid</th>\n",
       "      <th>id</th>\n",
       "      <th>contractPeriod_startDate</th>\n",
       "      <th>contractPeriod_endDate</th>\n",
       "      <th>parties_name</th>\n",
       "      <th>parties_contactPoint_name</th>\n",
       "    </tr>\n",
       "  </thead>\n",
       "  <tbody>\n",
       "    <tr>\n",
       "      <th>0</th>\n",
       "      <td>62a913e7db2a665c4fce6223</td>\n",
       "      <td>ocds-ty10ed-03-06-2022-10:13:43</td>\n",
       "      <td>11</td>\n",
       "      <td>[2022-06-14T11:21:02Z]</td>\n",
       "      <td>[2022-06-14T11:21:02Z]</td>\n",
       "      <td>SESEA AGUASCALIENTES</td>\n",
       "      <td>Monica Lizbeth de la Cruz Ortega</td>\n",
       "    </tr>\n",
       "    <tr>\n",
       "      <th>1</th>\n",
       "      <td>62a913e7db2a665c4fce6223</td>\n",
       "      <td>ocds-ty10ed-03-06-2022-10:13:43</td>\n",
       "      <td>11</td>\n",
       "      <td>[2022-06-14T11:21:02Z]</td>\n",
       "      <td>[2022-06-14T11:21:02Z]</td>\n",
       "      <td>Nissan Torres Corzo</td>\n",
       "      <td>Grupo Torres Corzo Automotriz de Aguascaliente...</td>\n",
       "    </tr>\n",
       "    <tr>\n",
       "      <th>2</th>\n",
       "      <td>62a913e7db2a665c4fce6226</td>\n",
       "      <td>ocds-ty10ed-07-06-2022-10:37:52</td>\n",
       "      <td>14</td>\n",
       "      <td>[2022-06-14T11:21:02Z]</td>\n",
       "      <td>[2022-06-14T11:21:02Z]</td>\n",
       "      <td>SESEA AGUASCALIENTES</td>\n",
       "      <td>Monica Lizbeth de la Cruz Ortega</td>\n",
       "    </tr>\n",
       "    <tr>\n",
       "      <th>3</th>\n",
       "      <td>62a913e7db2a665c4fce6226</td>\n",
       "      <td>ocds-ty10ed-07-06-2022-10:37:52</td>\n",
       "      <td>14</td>\n",
       "      <td>[2022-06-14T11:21:02Z]</td>\n",
       "      <td>[2022-06-14T11:21:02Z]</td>\n",
       "      <td>Grant Limpieza y mantenimiento</td>\n",
       "      <td>Grant Limpieza y mantenimiento</td>\n",
       "    </tr>\n",
       "    <tr>\n",
       "      <th>4</th>\n",
       "      <td>62a913e7db2a665c4fce6225</td>\n",
       "      <td>ocds-ty10ed-06-06-2022-08:06:10</td>\n",
       "      <td>13</td>\n",
       "      <td>[2022-06-14T11:21:02Z]</td>\n",
       "      <td>[2022-06-14T11:21:02Z]</td>\n",
       "      <td>SESEA AGUASCALIENTES</td>\n",
       "      <td>Monica Lizbeth de la Cruz Ortega</td>\n",
       "    </tr>\n",
       "  </tbody>\n",
       "</table>\n",
       "</div>"
      ],
      "text/plain": [
       "                   _id.$oid                             ocid  id  \\\n",
       "0  62a913e7db2a665c4fce6223  ocds-ty10ed-03-06-2022-10:13:43  11   \n",
       "1  62a913e7db2a665c4fce6223  ocds-ty10ed-03-06-2022-10:13:43  11   \n",
       "2  62a913e7db2a665c4fce6226  ocds-ty10ed-07-06-2022-10:37:52  14   \n",
       "3  62a913e7db2a665c4fce6226  ocds-ty10ed-07-06-2022-10:37:52  14   \n",
       "4  62a913e7db2a665c4fce6225  ocds-ty10ed-06-06-2022-08:06:10  13   \n",
       "\n",
       "  contractPeriod_startDate  contractPeriod_endDate  \\\n",
       "0   [2022-06-14T11:21:02Z]  [2022-06-14T11:21:02Z]   \n",
       "1   [2022-06-14T11:21:02Z]  [2022-06-14T11:21:02Z]   \n",
       "2   [2022-06-14T11:21:02Z]  [2022-06-14T11:21:02Z]   \n",
       "3   [2022-06-14T11:21:02Z]  [2022-06-14T11:21:02Z]   \n",
       "4   [2022-06-14T11:21:02Z]  [2022-06-14T11:21:02Z]   \n",
       "\n",
       "                     parties_name  \\\n",
       "0            SESEA AGUASCALIENTES   \n",
       "1             Nissan Torres Corzo   \n",
       "2            SESEA AGUASCALIENTES   \n",
       "3  Grant Limpieza y mantenimiento   \n",
       "4            SESEA AGUASCALIENTES   \n",
       "\n",
       "                           parties_contactPoint_name  \n",
       "0                   Monica Lizbeth de la Cruz Ortega  \n",
       "1  Grupo Torres Corzo Automotriz de Aguascaliente...  \n",
       "2                   Monica Lizbeth de la Cruz Ortega  \n",
       "3                     Grant Limpieza y mantenimiento  \n",
       "4                   Monica Lizbeth de la Cruz Ortega  "
      ]
     },
     "execution_count": 41,
     "metadata": {},
     "output_type": "execute_result"
    }
   ],
   "source": [
    "s6_df.head()"
   ]
  },
  {
   "cell_type": "code",
   "execution_count": 42,
   "metadata": {},
   "outputs": [
    {
     "name": "stdout",
     "output_type": "stream",
     "text": [
      "(\"Could not convert 'SHCP-1138261-2021-04-05' with type str: tried to convert to int64\", 'Conversion failed for column id with type object')\n"
     ]
    },
    {
     "name": "stderr",
     "output_type": "stream",
     "text": [
      "C:\\Users\\garci\\AppData\\Local\\Temp\\ipykernel_5536\\2114742651.py:5: PerformanceWarning: \n",
      "your performance may suffer as PyTables will pickle object types that it cannot\n",
      "map directly to c-types [inferred_type->mixed-integer,key->block0_values] [items->Index(['_id.$oid', 'ocid', 'id', 'contractPeriod_startDate',\n",
      "       'contractPeriod_endDate', 'parties_name', 'parties_contactPoint_name'],\n",
      "      dtype='object')]\n",
      "\n",
      "  s6_df.to_hdf(\"s6_hdf.h5\", key = \"s6_df\")\n"
     ]
    }
   ],
   "source": [
    "try:\n",
    "    s6_df.to_parquet(\"s6_parquet.parquet\")\n",
    "except Exception as e:\n",
    "    print(e)\n",
    "    s6_df.to_hdf(\"s6_hdf.h5\", key = \"s6_df\")"
   ]
  },
  {
   "cell_type": "code",
   "execution_count": 22,
   "metadata": {},
   "outputs": [],
   "source": [
    "#s6_df['contractPeriod_startDate'] = s6_df['contractPeriod_startDate'].apply(lambda x: pd.to_datetime(x, utc=True))\n",
    "#s6_df['contractPeriod_endDate'] = s6_df['contractPeriod_endDate'].apply(lambda x: pd.to_datetime(x, utc=True))\n",
    "\n",
    "#s6_df['contractPeriod_startDate'] = s6_df['contractPeriod_startDate'].dt.date\n",
    "#s6_df['contractPeriod_endDate'] = s6_df['contractPeriod_endDate'].dt.date"
   ]
  },
  {
   "cell_type": "code",
   "execution_count": 24,
   "metadata": {},
   "outputs": [],
   "source": [
    "#try:\n",
    "#    s6_df.to_parquet(\"s6_parquet_dates.parquet\")\n",
    "#except:\n",
    "#    s6_df.to_hdf(\"s6_hdf_dates.h5\", key = \"s6_df_dates\")"
   ]
  }
 ],
 "metadata": {
  "kernelspec": {
   "display_name": "Python 3",
   "language": "python",
   "name": "python3"
  },
  "language_info": {
   "codemirror_mode": {
    "name": "ipython",
    "version": 3
   },
   "file_extension": ".py",
   "mimetype": "text/x-python",
   "name": "python",
   "nbconvert_exporter": "python",
   "pygments_lexer": "ipython3",
   "version": "3.11.4"
  }
 },
 "nbformat": 4,
 "nbformat_minor": 2
}
