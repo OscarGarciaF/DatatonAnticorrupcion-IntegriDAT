{
 "cells": [
  {
   "cell_type": "code",
   "execution_count": 1,
   "metadata": {},
   "outputs": [],
   "source": [
    "import pandas as pd\n",
    "import numpy as np\n",
    "import os\n",
    "import glob\n",
    "import json\n",
    "import datetime\n",
    "from dateutil.parser import parse\n",
    "import gc"
   ]
  },
  {
   "cell_type": "code",
   "execution_count": 2,
   "metadata": {},
   "outputs": [],
   "source": [
    "s6_df = pd.read_json(\"ver_releases.json\")"
   ]
  },
  {
   "cell_type": "code",
   "execution_count": 3,
   "metadata": {},
   "outputs": [
    {
     "data": {
      "text/plain": [
       "Index(['_id', 'ocid', 'id', 'date', 'tag', 'initiationType', 'parties',\n",
       "       'planning', 'tender', 'buyer', 'awards', 'contracts', 'language'],\n",
       "      dtype='object')"
      ]
     },
     "execution_count": 3,
     "metadata": {},
     "output_type": "execute_result"
    }
   ],
   "source": [
    "s6_df.columns"
   ]
  },
  {
   "cell_type": "code",
   "execution_count": 4,
   "metadata": {},
   "outputs": [],
   "source": [
    "s6_df['_id.$oid'] = s6_df['_id'].apply(lambda x: x.get('$oid'))"
   ]
  },
  {
   "cell_type": "code",
   "execution_count": 5,
   "metadata": {},
   "outputs": [],
   "source": [
    "keep_cols = ['_id.$oid', \"ocid\", \"id\", \"parties\", \"awards\"]\n",
    "s6_df = s6_df[keep_cols]"
   ]
  },
  {
   "cell_type": "code",
   "execution_count": 6,
   "metadata": {},
   "outputs": [
    {
     "data": {
      "text/plain": [
       "Index(['_id.$oid', 'ocid', 'id', 'parties', 'awards'], dtype='object')"
      ]
     },
     "execution_count": 6,
     "metadata": {},
     "output_type": "execute_result"
    }
   ],
   "source": [
    "s6_df.columns"
   ]
  },
  {
   "cell_type": "code",
   "execution_count": 7,
   "metadata": {},
   "outputs": [
    {
     "data": {
      "text/html": [
       "<div>\n",
       "<style scoped>\n",
       "    .dataframe tbody tr th:only-of-type {\n",
       "        vertical-align: middle;\n",
       "    }\n",
       "\n",
       "    .dataframe tbody tr th {\n",
       "        vertical-align: top;\n",
       "    }\n",
       "\n",
       "    .dataframe thead th {\n",
       "        text-align: right;\n",
       "    }\n",
       "</style>\n",
       "<table border=\"1\" class=\"dataframe\">\n",
       "  <thead>\n",
       "    <tr style=\"text-align: right;\">\n",
       "      <th></th>\n",
       "      <th>_id.$oid</th>\n",
       "      <th>ocid</th>\n",
       "      <th>id</th>\n",
       "      <th>parties</th>\n",
       "      <th>awards</th>\n",
       "    </tr>\n",
       "  </thead>\n",
       "  <tbody>\n",
       "    <tr>\n",
       "      <th>0</th>\n",
       "      <td>650873de6726d47394a0b0a4</td>\n",
       "      <td>ocds-qdg43v-RM-181</td>\n",
       "      <td>ocds-qdg43v-RM-181.v34.implementation</td>\n",
       "      <td>[{'name': 'SESEA', 'id': 'MX-RFC-SES171122F80'...</td>\n",
       "      <td>[{'id': 'Marco', 'status': 'active', 'date': '...</td>\n",
       "    </tr>\n",
       "    <tr>\n",
       "      <th>1</th>\n",
       "      <td>650873de6726d47394a0b0a5</td>\n",
       "      <td>ocds-qdg43v-SESEAVER-SE-DA-RMySG-409-2022</td>\n",
       "      <td>ocds-qdg43v-SESEAVER-SE-DA-RMySG-409-2022.v28....</td>\n",
       "      <td>[{'name': 'SESEA', 'id': 'MX-RFC-SES171122F80'...</td>\n",
       "      <td>[{'id': 'SESEAVER/SE/DA/RMySG/409/2022', 'titl...</td>\n",
       "    </tr>\n",
       "    <tr>\n",
       "      <th>2</th>\n",
       "      <td>650873de6726d47394a0b0a6</td>\n",
       "      <td>ocds-qdg43v-SESEAVER-SE-DA-RMySG-360-2022</td>\n",
       "      <td>ocds-qdg43v-SESEAVER-SE-DA-RMySG-360-2022.v20....</td>\n",
       "      <td>[{'name': 'SEA', 'id': 'MX-RFC-SES171122F80', ...</td>\n",
       "      <td>[{'id': 'SESEAVER/SE/DA/RMySG/360/2022', 'titl...</td>\n",
       "    </tr>\n",
       "    <tr>\n",
       "      <th>3</th>\n",
       "      <td>650873de6726d47394a0b0ac</td>\n",
       "      <td>ocds-qdg43v-SESEAVER-SE-DA-RMySG-408-2022</td>\n",
       "      <td>ocds-qdg43v-SESEAVER-SE-DA-RMySG-408-2022.v16....</td>\n",
       "      <td>[{'name': 'SESEA', 'id': 'MX-RFC-SES171122F80'...</td>\n",
       "      <td>[{'id': 'SESEAVER/SE/DA/RMySG/408/2022', 'titl...</td>\n",
       "    </tr>\n",
       "    <tr>\n",
       "      <th>4</th>\n",
       "      <td>650873de6726d47394a0b0a7</td>\n",
       "      <td>ocds-qdg43v-SESEAVER-SE-DA-RMySG-414-2022</td>\n",
       "      <td>ocds-qdg43v-SESEAVER-SE-DA-RMySG-414-2022.v27....</td>\n",
       "      <td>[{'name': 'SEA', 'id': 'MX-RFC-SES171122F80', ...</td>\n",
       "      <td>[{'id': 'SESEAVER/SE/DA/RMySG/414/2022', 'titl...</td>\n",
       "    </tr>\n",
       "  </tbody>\n",
       "</table>\n",
       "</div>"
      ],
      "text/plain": [
       "                   _id.$oid                                       ocid  \\\n",
       "0  650873de6726d47394a0b0a4                         ocds-qdg43v-RM-181   \n",
       "1  650873de6726d47394a0b0a5  ocds-qdg43v-SESEAVER-SE-DA-RMySG-409-2022   \n",
       "2  650873de6726d47394a0b0a6  ocds-qdg43v-SESEAVER-SE-DA-RMySG-360-2022   \n",
       "3  650873de6726d47394a0b0ac  ocds-qdg43v-SESEAVER-SE-DA-RMySG-408-2022   \n",
       "4  650873de6726d47394a0b0a7  ocds-qdg43v-SESEAVER-SE-DA-RMySG-414-2022   \n",
       "\n",
       "                                                  id  \\\n",
       "0              ocds-qdg43v-RM-181.v34.implementation   \n",
       "1  ocds-qdg43v-SESEAVER-SE-DA-RMySG-409-2022.v28....   \n",
       "2  ocds-qdg43v-SESEAVER-SE-DA-RMySG-360-2022.v20....   \n",
       "3  ocds-qdg43v-SESEAVER-SE-DA-RMySG-408-2022.v16....   \n",
       "4  ocds-qdg43v-SESEAVER-SE-DA-RMySG-414-2022.v27....   \n",
       "\n",
       "                                             parties  \\\n",
       "0  [{'name': 'SESEA', 'id': 'MX-RFC-SES171122F80'...   \n",
       "1  [{'name': 'SESEA', 'id': 'MX-RFC-SES171122F80'...   \n",
       "2  [{'name': 'SEA', 'id': 'MX-RFC-SES171122F80', ...   \n",
       "3  [{'name': 'SESEA', 'id': 'MX-RFC-SES171122F80'...   \n",
       "4  [{'name': 'SEA', 'id': 'MX-RFC-SES171122F80', ...   \n",
       "\n",
       "                                              awards  \n",
       "0  [{'id': 'Marco', 'status': 'active', 'date': '...  \n",
       "1  [{'id': 'SESEAVER/SE/DA/RMySG/409/2022', 'titl...  \n",
       "2  [{'id': 'SESEAVER/SE/DA/RMySG/360/2022', 'titl...  \n",
       "3  [{'id': 'SESEAVER/SE/DA/RMySG/408/2022', 'titl...  \n",
       "4  [{'id': 'SESEAVER/SE/DA/RMySG/414/2022', 'titl...  "
      ]
     },
     "execution_count": 7,
     "metadata": {},
     "output_type": "execute_result"
    }
   ],
   "source": [
    "s6_df.head()"
   ]
  },
  {
   "cell_type": "code",
   "execution_count": 8,
   "metadata": {},
   "outputs": [],
   "source": [
    "def parse_date(x):\n",
    "    try:\n",
    "        return parse(x)\n",
    "    except:\n",
    "        return None"
   ]
  },
  {
   "cell_type": "code",
   "execution_count": 9,
   "metadata": {},
   "outputs": [],
   "source": [
    "def find_start_date(awards):\n",
    "    start_dates = []\n",
    "    end_dates = []\n",
    "    for award in awards:\n",
    "        start_date = parse_date(award.get(\"contractPeriod\", {}).get(\"startDate\"))\n",
    "        if start_date:\n",
    "            start_dates.append(start_date)\n",
    "        end_date = parse_date(award.get(\"contractPeriod\",{}).get(\"endDate\"))\n",
    "        if end_date:\n",
    "            end_dates.append(end_date)\n",
    "    \n",
    "    if len(start_dates) > 0:\n",
    "        earliest_start = min(start_dates)\n",
    "    else:\n",
    "        earliest_start = np.datetime64('NaT')\n",
    "        \n",
    "    if len(start_dates) > 0:\n",
    "        oldest_end = max(end_dates)\n",
    "    else:\n",
    "        oldest_end = np.datetime64('NaT')\n",
    "\n",
    "    return earliest_start, oldest_end\n",
    "    "
   ]
  },
  {
   "cell_type": "code",
   "execution_count": 10,
   "metadata": {},
   "outputs": [],
   "source": [
    "res = s6_df.awards.apply(find_start_date)"
   ]
  },
  {
   "cell_type": "code",
   "execution_count": 11,
   "metadata": {},
   "outputs": [],
   "source": [
    "s6_df[\"contractPeriod_startDate\"], s6_df[\"contractPeriod_endDate\"] = zip(*res)\n",
    "s6_df = s6_df.drop(columns=[\"awards\"])"
   ]
  },
  {
   "cell_type": "code",
   "execution_count": 12,
   "metadata": {},
   "outputs": [],
   "source": [
    "s6_df = s6_df.explode(\"parties\")"
   ]
  },
  {
   "cell_type": "code",
   "execution_count": 13,
   "metadata": {},
   "outputs": [
    {
     "data": {
      "text/html": [
       "<div>\n",
       "<style scoped>\n",
       "    .dataframe tbody tr th:only-of-type {\n",
       "        vertical-align: middle;\n",
       "    }\n",
       "\n",
       "    .dataframe tbody tr th {\n",
       "        vertical-align: top;\n",
       "    }\n",
       "\n",
       "    .dataframe thead th {\n",
       "        text-align: right;\n",
       "    }\n",
       "</style>\n",
       "<table border=\"1\" class=\"dataframe\">\n",
       "  <thead>\n",
       "    <tr style=\"text-align: right;\">\n",
       "      <th></th>\n",
       "      <th>_id.$oid</th>\n",
       "      <th>ocid</th>\n",
       "      <th>id</th>\n",
       "      <th>parties</th>\n",
       "      <th>contractPeriod_startDate</th>\n",
       "      <th>contractPeriod_endDate</th>\n",
       "    </tr>\n",
       "  </thead>\n",
       "  <tbody>\n",
       "    <tr>\n",
       "      <th>0</th>\n",
       "      <td>650873de6726d47394a0b0a4</td>\n",
       "      <td>ocds-qdg43v-RM-181</td>\n",
       "      <td>ocds-qdg43v-RM-181.v34.implementation</td>\n",
       "      <td>{'name': 'SESEA', 'id': 'MX-RFC-SES171122F80',...</td>\n",
       "      <td>2022-12-14 00:00:00-06:00</td>\n",
       "      <td>2022-12-14 00:00:00-06:00</td>\n",
       "    </tr>\n",
       "    <tr>\n",
       "      <th>0</th>\n",
       "      <td>650873de6726d47394a0b0a4</td>\n",
       "      <td>ocds-qdg43v-RM-181</td>\n",
       "      <td>ocds-qdg43v-RM-181.v34.implementation</td>\n",
       "      <td>{'name': 'Marco Gonzalo Hernández Aburto', 'id...</td>\n",
       "      <td>2022-12-14 00:00:00-06:00</td>\n",
       "      <td>2022-12-14 00:00:00-06:00</td>\n",
       "    </tr>\n",
       "    <tr>\n",
       "      <th>0</th>\n",
       "      <td>650873de6726d47394a0b0a4</td>\n",
       "      <td>ocds-qdg43v-RM-181</td>\n",
       "      <td>ocds-qdg43v-RM-181.v34.implementation</td>\n",
       "      <td>{'name': 'Vinculación Interinstitucional ', 'i...</td>\n",
       "      <td>2022-12-14 00:00:00-06:00</td>\n",
       "      <td>2022-12-14 00:00:00-06:00</td>\n",
       "    </tr>\n",
       "    <tr>\n",
       "      <th>0</th>\n",
       "      <td>650873de6726d47394a0b0a4</td>\n",
       "      <td>ocds-qdg43v-RM-181</td>\n",
       "      <td>ocds-qdg43v-RM-181.v34.implementation</td>\n",
       "      <td>{'name': 'Recursos Materiales', 'id': 'MX-RFC-...</td>\n",
       "      <td>2022-12-14 00:00:00-06:00</td>\n",
       "      <td>2022-12-14 00:00:00-06:00</td>\n",
       "    </tr>\n",
       "    <tr>\n",
       "      <th>0</th>\n",
       "      <td>650873de6726d47394a0b0a4</td>\n",
       "      <td>ocds-qdg43v-RM-181</td>\n",
       "      <td>ocds-qdg43v-RM-181.v34.implementation</td>\n",
       "      <td>{'name': 'José Antonio Lara Apodaca', 'id': 'M...</td>\n",
       "      <td>2022-12-14 00:00:00-06:00</td>\n",
       "      <td>2022-12-14 00:00:00-06:00</td>\n",
       "    </tr>\n",
       "  </tbody>\n",
       "</table>\n",
       "</div>"
      ],
      "text/plain": [
       "                   _id.$oid                ocid  \\\n",
       "0  650873de6726d47394a0b0a4  ocds-qdg43v-RM-181   \n",
       "0  650873de6726d47394a0b0a4  ocds-qdg43v-RM-181   \n",
       "0  650873de6726d47394a0b0a4  ocds-qdg43v-RM-181   \n",
       "0  650873de6726d47394a0b0a4  ocds-qdg43v-RM-181   \n",
       "0  650873de6726d47394a0b0a4  ocds-qdg43v-RM-181   \n",
       "\n",
       "                                      id  \\\n",
       "0  ocds-qdg43v-RM-181.v34.implementation   \n",
       "0  ocds-qdg43v-RM-181.v34.implementation   \n",
       "0  ocds-qdg43v-RM-181.v34.implementation   \n",
       "0  ocds-qdg43v-RM-181.v34.implementation   \n",
       "0  ocds-qdg43v-RM-181.v34.implementation   \n",
       "\n",
       "                                             parties  \\\n",
       "0  {'name': 'SESEA', 'id': 'MX-RFC-SES171122F80',...   \n",
       "0  {'name': 'Marco Gonzalo Hernández Aburto', 'id...   \n",
       "0  {'name': 'Vinculación Interinstitucional ', 'i...   \n",
       "0  {'name': 'Recursos Materiales', 'id': 'MX-RFC-...   \n",
       "0  {'name': 'José Antonio Lara Apodaca', 'id': 'M...   \n",
       "\n",
       "    contractPeriod_startDate     contractPeriod_endDate  \n",
       "0  2022-12-14 00:00:00-06:00  2022-12-14 00:00:00-06:00  \n",
       "0  2022-12-14 00:00:00-06:00  2022-12-14 00:00:00-06:00  \n",
       "0  2022-12-14 00:00:00-06:00  2022-12-14 00:00:00-06:00  \n",
       "0  2022-12-14 00:00:00-06:00  2022-12-14 00:00:00-06:00  \n",
       "0  2022-12-14 00:00:00-06:00  2022-12-14 00:00:00-06:00  "
      ]
     },
     "execution_count": 13,
     "metadata": {},
     "output_type": "execute_result"
    }
   ],
   "source": [
    "s6_df.head()"
   ]
  },
  {
   "cell_type": "code",
   "execution_count": 14,
   "metadata": {},
   "outputs": [],
   "source": [
    "def extract_parties_names(parties):\n",
    "    name = parties.get(\"name\")\n",
    "    contact = parties.get(\"contactPoint\", {}).get(\"name\")\n",
    "    return name, contact"
   ]
  },
  {
   "cell_type": "code",
   "execution_count": 15,
   "metadata": {},
   "outputs": [],
   "source": [
    "res_contact = s6_df.parties.apply(extract_parties_names)\n",
    "s6_df[\"parties_name\"], s6_df[\"parties_contactPoint_name\"] = zip(*res_contact)\n",
    "s6_df = s6_df.drop(columns=[\"parties\"])"
   ]
  },
  {
   "cell_type": "code",
   "execution_count": 16,
   "metadata": {},
   "outputs": [],
   "source": [
    "s6_df = s6_df.reset_index(drop = True)"
   ]
  },
  {
   "cell_type": "code",
   "execution_count": 17,
   "metadata": {},
   "outputs": [
    {
     "data": {
      "text/html": [
       "<div>\n",
       "<style scoped>\n",
       "    .dataframe tbody tr th:only-of-type {\n",
       "        vertical-align: middle;\n",
       "    }\n",
       "\n",
       "    .dataframe tbody tr th {\n",
       "        vertical-align: top;\n",
       "    }\n",
       "\n",
       "    .dataframe thead th {\n",
       "        text-align: right;\n",
       "    }\n",
       "</style>\n",
       "<table border=\"1\" class=\"dataframe\">\n",
       "  <thead>\n",
       "    <tr style=\"text-align: right;\">\n",
       "      <th></th>\n",
       "      <th>_id.$oid</th>\n",
       "      <th>ocid</th>\n",
       "      <th>id</th>\n",
       "      <th>contractPeriod_startDate</th>\n",
       "      <th>contractPeriod_endDate</th>\n",
       "      <th>parties_name</th>\n",
       "      <th>parties_contactPoint_name</th>\n",
       "    </tr>\n",
       "  </thead>\n",
       "  <tbody>\n",
       "    <tr>\n",
       "      <th>0</th>\n",
       "      <td>650873de6726d47394a0b0a4</td>\n",
       "      <td>ocds-qdg43v-RM-181</td>\n",
       "      <td>ocds-qdg43v-RM-181.v34.implementation</td>\n",
       "      <td>2022-12-14 00:00:00-06:00</td>\n",
       "      <td>2022-12-14 00:00:00-06:00</td>\n",
       "      <td>SESEA</td>\n",
       "      <td>None</td>\n",
       "    </tr>\n",
       "    <tr>\n",
       "      <th>1</th>\n",
       "      <td>650873de6726d47394a0b0a4</td>\n",
       "      <td>ocds-qdg43v-RM-181</td>\n",
       "      <td>ocds-qdg43v-RM-181.v34.implementation</td>\n",
       "      <td>2022-12-14 00:00:00-06:00</td>\n",
       "      <td>2022-12-14 00:00:00-06:00</td>\n",
       "      <td>Marco Gonzalo Hernández Aburto</td>\n",
       "      <td>Marco Gonzalo  Hernández  Aburto</td>\n",
       "    </tr>\n",
       "    <tr>\n",
       "      <th>2</th>\n",
       "      <td>650873de6726d47394a0b0a4</td>\n",
       "      <td>ocds-qdg43v-RM-181</td>\n",
       "      <td>ocds-qdg43v-RM-181.v34.implementation</td>\n",
       "      <td>2022-12-14 00:00:00-06:00</td>\n",
       "      <td>2022-12-14 00:00:00-06:00</td>\n",
       "      <td>Vinculación Interinstitucional</td>\n",
       "      <td>Laura Fernández  León</td>\n",
       "    </tr>\n",
       "    <tr>\n",
       "      <th>3</th>\n",
       "      <td>650873de6726d47394a0b0a4</td>\n",
       "      <td>ocds-qdg43v-RM-181</td>\n",
       "      <td>ocds-qdg43v-RM-181.v34.implementation</td>\n",
       "      <td>2022-12-14 00:00:00-06:00</td>\n",
       "      <td>2022-12-14 00:00:00-06:00</td>\n",
       "      <td>Recursos Materiales</td>\n",
       "      <td>Raymundo Ojeda Morales</td>\n",
       "    </tr>\n",
       "    <tr>\n",
       "      <th>4</th>\n",
       "      <td>650873de6726d47394a0b0a4</td>\n",
       "      <td>ocds-qdg43v-RM-181</td>\n",
       "      <td>ocds-qdg43v-RM-181.v34.implementation</td>\n",
       "      <td>2022-12-14 00:00:00-06:00</td>\n",
       "      <td>2022-12-14 00:00:00-06:00</td>\n",
       "      <td>José Antonio Lara Apodaca</td>\n",
       "      <td>José Antonio Lara Apodaca</td>\n",
       "    </tr>\n",
       "  </tbody>\n",
       "</table>\n",
       "</div>"
      ],
      "text/plain": [
       "                   _id.$oid                ocid  \\\n",
       "0  650873de6726d47394a0b0a4  ocds-qdg43v-RM-181   \n",
       "1  650873de6726d47394a0b0a4  ocds-qdg43v-RM-181   \n",
       "2  650873de6726d47394a0b0a4  ocds-qdg43v-RM-181   \n",
       "3  650873de6726d47394a0b0a4  ocds-qdg43v-RM-181   \n",
       "4  650873de6726d47394a0b0a4  ocds-qdg43v-RM-181   \n",
       "\n",
       "                                      id   contractPeriod_startDate  \\\n",
       "0  ocds-qdg43v-RM-181.v34.implementation  2022-12-14 00:00:00-06:00   \n",
       "1  ocds-qdg43v-RM-181.v34.implementation  2022-12-14 00:00:00-06:00   \n",
       "2  ocds-qdg43v-RM-181.v34.implementation  2022-12-14 00:00:00-06:00   \n",
       "3  ocds-qdg43v-RM-181.v34.implementation  2022-12-14 00:00:00-06:00   \n",
       "4  ocds-qdg43v-RM-181.v34.implementation  2022-12-14 00:00:00-06:00   \n",
       "\n",
       "      contractPeriod_endDate                     parties_name  \\\n",
       "0  2022-12-14 00:00:00-06:00                            SESEA   \n",
       "1  2022-12-14 00:00:00-06:00   Marco Gonzalo Hernández Aburto   \n",
       "2  2022-12-14 00:00:00-06:00  Vinculación Interinstitucional    \n",
       "3  2022-12-14 00:00:00-06:00              Recursos Materiales   \n",
       "4  2022-12-14 00:00:00-06:00        José Antonio Lara Apodaca   \n",
       "\n",
       "          parties_contactPoint_name  \n",
       "0                              None  \n",
       "1  Marco Gonzalo  Hernández  Aburto  \n",
       "2             Laura Fernández  León  \n",
       "3            Raymundo Ojeda Morales  \n",
       "4         José Antonio Lara Apodaca  "
      ]
     },
     "execution_count": 17,
     "metadata": {},
     "output_type": "execute_result"
    }
   ],
   "source": [
    "s6_df.head()"
   ]
  },
  {
   "cell_type": "code",
   "execution_count": 18,
   "metadata": {},
   "outputs": [],
   "source": [
    "s6_df = s6_df.dropna(subset = [\"contractPeriod_startDate\", \"contractPeriod_endDate\"], how = \"any\")"
   ]
  },
  {
   "cell_type": "code",
   "execution_count": 19,
   "metadata": {},
   "outputs": [],
   "source": [
    "s6_df['contractPeriod_startDate'] = s6_df['contractPeriod_startDate'].apply(lambda x: pd.to_datetime(x, utc=True))\n",
    "s6_df['contractPeriod_endDate'] = s6_df['contractPeriod_endDate'].apply(lambda x: pd.to_datetime(x, utc=True))\n",
    "\n",
    "s6_df['contractPeriod_startDate'] = s6_df['contractPeriod_startDate'].dt.date\n",
    "s6_df['contractPeriod_endDate'] = s6_df['contractPeriod_endDate'].dt.date\n"
   ]
  },
  {
   "cell_type": "code",
   "execution_count": 20,
   "metadata": {},
   "outputs": [
    {
     "data": {
      "text/html": [
       "<div>\n",
       "<style scoped>\n",
       "    .dataframe tbody tr th:only-of-type {\n",
       "        vertical-align: middle;\n",
       "    }\n",
       "\n",
       "    .dataframe tbody tr th {\n",
       "        vertical-align: top;\n",
       "    }\n",
       "\n",
       "    .dataframe thead th {\n",
       "        text-align: right;\n",
       "    }\n",
       "</style>\n",
       "<table border=\"1\" class=\"dataframe\">\n",
       "  <thead>\n",
       "    <tr style=\"text-align: right;\">\n",
       "      <th></th>\n",
       "      <th>_id.$oid</th>\n",
       "      <th>ocid</th>\n",
       "      <th>id</th>\n",
       "      <th>contractPeriod_startDate</th>\n",
       "      <th>contractPeriod_endDate</th>\n",
       "      <th>parties_name</th>\n",
       "      <th>parties_contactPoint_name</th>\n",
       "    </tr>\n",
       "  </thead>\n",
       "  <tbody>\n",
       "    <tr>\n",
       "      <th>0</th>\n",
       "      <td>650873de6726d47394a0b0a4</td>\n",
       "      <td>ocds-qdg43v-RM-181</td>\n",
       "      <td>ocds-qdg43v-RM-181.v34.implementation</td>\n",
       "      <td>2022-12-14</td>\n",
       "      <td>2022-12-14</td>\n",
       "      <td>SESEA</td>\n",
       "      <td>None</td>\n",
       "    </tr>\n",
       "    <tr>\n",
       "      <th>1</th>\n",
       "      <td>650873de6726d47394a0b0a4</td>\n",
       "      <td>ocds-qdg43v-RM-181</td>\n",
       "      <td>ocds-qdg43v-RM-181.v34.implementation</td>\n",
       "      <td>2022-12-14</td>\n",
       "      <td>2022-12-14</td>\n",
       "      <td>Marco Gonzalo Hernández Aburto</td>\n",
       "      <td>Marco Gonzalo  Hernández  Aburto</td>\n",
       "    </tr>\n",
       "    <tr>\n",
       "      <th>2</th>\n",
       "      <td>650873de6726d47394a0b0a4</td>\n",
       "      <td>ocds-qdg43v-RM-181</td>\n",
       "      <td>ocds-qdg43v-RM-181.v34.implementation</td>\n",
       "      <td>2022-12-14</td>\n",
       "      <td>2022-12-14</td>\n",
       "      <td>Vinculación Interinstitucional</td>\n",
       "      <td>Laura Fernández  León</td>\n",
       "    </tr>\n",
       "    <tr>\n",
       "      <th>3</th>\n",
       "      <td>650873de6726d47394a0b0a4</td>\n",
       "      <td>ocds-qdg43v-RM-181</td>\n",
       "      <td>ocds-qdg43v-RM-181.v34.implementation</td>\n",
       "      <td>2022-12-14</td>\n",
       "      <td>2022-12-14</td>\n",
       "      <td>Recursos Materiales</td>\n",
       "      <td>Raymundo Ojeda Morales</td>\n",
       "    </tr>\n",
       "    <tr>\n",
       "      <th>4</th>\n",
       "      <td>650873de6726d47394a0b0a4</td>\n",
       "      <td>ocds-qdg43v-RM-181</td>\n",
       "      <td>ocds-qdg43v-RM-181.v34.implementation</td>\n",
       "      <td>2022-12-14</td>\n",
       "      <td>2022-12-14</td>\n",
       "      <td>José Antonio Lara Apodaca</td>\n",
       "      <td>José Antonio Lara Apodaca</td>\n",
       "    </tr>\n",
       "  </tbody>\n",
       "</table>\n",
       "</div>"
      ],
      "text/plain": [
       "                   _id.$oid                ocid  \\\n",
       "0  650873de6726d47394a0b0a4  ocds-qdg43v-RM-181   \n",
       "1  650873de6726d47394a0b0a4  ocds-qdg43v-RM-181   \n",
       "2  650873de6726d47394a0b0a4  ocds-qdg43v-RM-181   \n",
       "3  650873de6726d47394a0b0a4  ocds-qdg43v-RM-181   \n",
       "4  650873de6726d47394a0b0a4  ocds-qdg43v-RM-181   \n",
       "\n",
       "                                      id contractPeriod_startDate  \\\n",
       "0  ocds-qdg43v-RM-181.v34.implementation               2022-12-14   \n",
       "1  ocds-qdg43v-RM-181.v34.implementation               2022-12-14   \n",
       "2  ocds-qdg43v-RM-181.v34.implementation               2022-12-14   \n",
       "3  ocds-qdg43v-RM-181.v34.implementation               2022-12-14   \n",
       "4  ocds-qdg43v-RM-181.v34.implementation               2022-12-14   \n",
       "\n",
       "  contractPeriod_endDate                     parties_name  \\\n",
       "0             2022-12-14                            SESEA   \n",
       "1             2022-12-14   Marco Gonzalo Hernández Aburto   \n",
       "2             2022-12-14  Vinculación Interinstitucional    \n",
       "3             2022-12-14              Recursos Materiales   \n",
       "4             2022-12-14        José Antonio Lara Apodaca   \n",
       "\n",
       "          parties_contactPoint_name  \n",
       "0                              None  \n",
       "1  Marco Gonzalo  Hernández  Aburto  \n",
       "2             Laura Fernández  León  \n",
       "3            Raymundo Ojeda Morales  \n",
       "4         José Antonio Lara Apodaca  "
      ]
     },
     "execution_count": 20,
     "metadata": {},
     "output_type": "execute_result"
    }
   ],
   "source": [
    "s6_df.head()"
   ]
  },
  {
   "cell_type": "code",
   "execution_count": 21,
   "metadata": {},
   "outputs": [],
   "source": [
    "s6_df.to_parquet(\"s6_small.parquet\")"
   ]
  }
 ],
 "metadata": {
  "kernelspec": {
   "display_name": "Python 3",
   "language": "python",
   "name": "python3"
  },
  "language_info": {
   "codemirror_mode": {
    "name": "ipython",
    "version": 3
   },
   "file_extension": ".py",
   "mimetype": "text/x-python",
   "name": "python",
   "nbconvert_exporter": "python",
   "pygments_lexer": "ipython3",
   "version": "3.12.0"
  }
 },
 "nbformat": 4,
 "nbformat_minor": 2
}
