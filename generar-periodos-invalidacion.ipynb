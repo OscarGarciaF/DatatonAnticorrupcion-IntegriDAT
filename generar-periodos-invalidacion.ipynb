{
 "cells": [
  {
   "cell_type": "code",
   "execution_count": 1,
   "metadata": {},
   "outputs": [],
   "source": [
    "import pandas as pd\n",
    "import numpy as np\n",
    "import os\n",
    "import glob\n",
    "import json\n",
    "import datetime\n",
    "from dateutil.parser import parse"
   ]
  },
  {
   "cell_type": "code",
   "execution_count": 2,
   "metadata": {},
   "outputs": [],
   "source": [
    "all_files_s3p = glob.glob(os.path.join(\"s3p\" , \"*/*.json\"))\n",
    "s3p_df_from_each_file = (pd.read_json(f) for f in all_files_s3p)\n",
    "s3p_df = pd.concat(s3p_df_from_each_file, ignore_index=True)\n",
    "\n",
    "all_files_s3s = glob.glob(os.path.join(\"s3s\" , \"*/*.json\"))\n",
    "s3s_df_from_each_file = (pd.read_json(f) for f in all_files_s3s)\n",
    "s3s_df = pd.concat(s3s_df_from_each_file, ignore_index=True)"
   ]
  },
  {
   "cell_type": "markdown",
   "metadata": {},
   "source": [
    "# Procesar particulares sancionados"
   ]
  },
  {
   "cell_type": "code",
   "execution_count": 3,
   "metadata": {},
   "outputs": [],
   "source": [
    "def parse_date(x):\n",
    "    try:\n",
    "        return parse(x)\n",
    "    except:\n",
    "        return np.datetime64('NaT')"
   ]
  },
  {
   "cell_type": "code",
   "execution_count": 4,
   "metadata": {},
   "outputs": [],
   "source": [
    "sancionados = pd.json_normalize(s3p_df.particularSancionado)\n",
    "inhabilitacion = pd.json_normalize(s3p_df.inhabilitacion)\n",
    "inhabilitacion.fechaInicial =   inhabilitacion.fechaInicial.apply(parse_date)\n",
    "inhabilitacion.fechaFinal = inhabilitacion.fechaFinal.apply(parse_date)"
   ]
  },
  {
   "cell_type": "code",
   "execution_count": 5,
   "metadata": {},
   "outputs": [],
   "source": [
    "s3p_df[\"sancion_nombre\"] = sancionados.nombreRazonSocial\n",
    "s3p_df[\"sancion_tipoPersona\"] = sancionados.tipoPersona\n",
    "s3p_df[\"sancion_objetoSocial\"] = sancionados.objetoSocial\n",
    "s3p_df[\"inhabilitacion_fechaInicial\"] = inhabilitacion.fechaInicial\n",
    "s3p_df[\"inhabilitacion_fechaFinal\"] = inhabilitacion.fechaFinal\n",
    "s3p_df[\"sancion_nombre\"] = s3p_df[\"sancion_nombre\"].str.lower()\n",
    "s3p_df[\"sancion_nombre\"] = s3p_df[\"sancion_nombre\"].str.normalize('NFKD').str.encode('ascii', errors='ignore').str.decode('utf-8')"
   ]
  },
  {
   "cell_type": "code",
   "execution_count": 6,
   "metadata": {},
   "outputs": [
    {
     "data": {
      "text/html": [
       "<div>\n",
       "<style scoped>\n",
       "    .dataframe tbody tr th:only-of-type {\n",
       "        vertical-align: middle;\n",
       "    }\n",
       "\n",
       "    .dataframe tbody tr th {\n",
       "        vertical-align: top;\n",
       "    }\n",
       "\n",
       "    .dataframe thead th {\n",
       "        text-align: right;\n",
       "    }\n",
       "</style>\n",
       "<table border=\"1\" class=\"dataframe\">\n",
       "  <thead>\n",
       "    <tr style=\"text-align: right;\">\n",
       "      <th></th>\n",
       "      <th>id</th>\n",
       "      <th>expediente</th>\n",
       "      <th>sancion_nombre</th>\n",
       "      <th>sancion_tipoPersona</th>\n",
       "      <th>sancion_objetoSocial</th>\n",
       "      <th>inhabilitacion_fechaInicial</th>\n",
       "      <th>inhabilitacion_fechaFinal</th>\n",
       "      <th>tipo_persona</th>\n",
       "    </tr>\n",
       "  </thead>\n",
       "  <tbody>\n",
       "    <tr>\n",
       "      <th>6</th>\n",
       "      <td>652dbfd33571bce3cc3d002c</td>\n",
       "      <td>32/2020</td>\n",
       "      <td>mishael cayetano pina</td>\n",
       "      <td>F</td>\n",
       "      <td>PERSONA FÍSICA</td>\n",
       "      <td>NaT</td>\n",
       "      <td>NaT</td>\n",
       "      <td>particular</td>\n",
       "    </tr>\n",
       "    <tr>\n",
       "      <th>7</th>\n",
       "      <td>29</td>\n",
       "      <td>SE/18/2019/JQII/AR</td>\n",
       "      <td>alejandro valerio payan</td>\n",
       "      <td>F</td>\n",
       "      <td>-</td>\n",
       "      <td>2020-10-23</td>\n",
       "      <td>2024-10-22</td>\n",
       "      <td>particular</td>\n",
       "    </tr>\n",
       "    <tr>\n",
       "      <th>8</th>\n",
       "      <td>28</td>\n",
       "      <td>SE/18/2019/JQII/AR</td>\n",
       "      <td>horus grupo empresarial, sociedad anonima de c...</td>\n",
       "      <td>M</td>\n",
       "      <td>LA CONSTRUCCION Y DISEÑO DE TODA CLASE DE OBRA...</td>\n",
       "      <td>2020-10-23</td>\n",
       "      <td>2025-12-07</td>\n",
       "      <td>particular</td>\n",
       "    </tr>\n",
       "    <tr>\n",
       "      <th>9</th>\n",
       "      <td>61e1db512a16a00013957b07</td>\n",
       "      <td>TJA/QR-SU3-092-2019</td>\n",
       "      <td>juan carlos ibarra guevara</td>\n",
       "      <td>F</td>\n",
       "      <td>NaN</td>\n",
       "      <td>NaT</td>\n",
       "      <td>NaT</td>\n",
       "      <td>particular</td>\n",
       "    </tr>\n",
       "  </tbody>\n",
       "</table>\n",
       "</div>"
      ],
      "text/plain": [
       "                         id           expediente  \\\n",
       "6  652dbfd33571bce3cc3d002c              32/2020   \n",
       "7                        29   SE/18/2019/JQII/AR   \n",
       "8                        28   SE/18/2019/JQII/AR   \n",
       "9  61e1db512a16a00013957b07  TJA/QR-SU3-092-2019   \n",
       "\n",
       "                                      sancion_nombre sancion_tipoPersona  \\\n",
       "6                              mishael cayetano pina                   F   \n",
       "7                            alejandro valerio payan                   F   \n",
       "8  horus grupo empresarial, sociedad anonima de c...                   M   \n",
       "9                         juan carlos ibarra guevara                   F   \n",
       "\n",
       "                                sancion_objetoSocial  \\\n",
       "6                                     PERSONA FÍSICA   \n",
       "7                                                  -   \n",
       "8  LA CONSTRUCCION Y DISEÑO DE TODA CLASE DE OBRA...   \n",
       "9                                                NaN   \n",
       "\n",
       "  inhabilitacion_fechaInicial inhabilitacion_fechaFinal tipo_persona  \n",
       "6                         NaT                       NaT   particular  \n",
       "7                  2020-10-23                2024-10-22   particular  \n",
       "8                  2020-10-23                2025-12-07   particular  \n",
       "9                         NaT                       NaT   particular  "
      ]
     },
     "execution_count": 6,
     "metadata": {},
     "output_type": "execute_result"
    }
   ],
   "source": [
    "columnas = [\"id\", \"expediente\", \"sancion_nombre\", \"sancion_tipoPersona\", \"sancion_objetoSocial\", \"inhabilitacion_fechaInicial\",\"inhabilitacion_fechaFinal\"]\n",
    "s3p_df = s3p_df[columnas]\n",
    "s3p_df[\"tipo_persona\"] = \"particular\"\n",
    "s3p_df[6:10]"
   ]
  },
  {
   "cell_type": "markdown",
   "metadata": {},
   "source": [
    "# Procesar servidores sancionados"
   ]
  },
  {
   "cell_type": "code",
   "execution_count": 7,
   "metadata": {},
   "outputs": [],
   "source": [
    "servidorPublicoSancionado = pd.json_normalize(s3s_df.servidorPublicoSancionado)\n",
    "inhabilitacion_servidor = pd.json_normalize(s3s_df.inhabilitacion)"
   ]
  },
  {
   "cell_type": "code",
   "execution_count": 8,
   "metadata": {},
   "outputs": [
    {
     "data": {
      "text/plain": [
       "Index(['id', 'fechaCaptura', 'expediente', 'institucionDependencia',\n",
       "       'servidorPublicoSancionado', 'autoridadSancionadora', 'tipoFalta',\n",
       "       'tipoSancion', 'causaMotivoHechos', 'resolucion', 'multa',\n",
       "       'inhabilitacion', 'documentos', 'observaciones', '__v'],\n",
       "      dtype='object')"
      ]
     },
     "execution_count": 8,
     "metadata": {},
     "output_type": "execute_result"
    }
   ],
   "source": [
    "s3s_df.columns"
   ]
  },
  {
   "cell_type": "code",
   "execution_count": 9,
   "metadata": {},
   "outputs": [],
   "source": [
    "servidorPublicoSancionado[[\"nombres\", \"primerApellido\", \"segundoApellido\" ]] = servidorPublicoSancionado[[\"nombres\", \"primerApellido\", \"segundoApellido\" ]].fillna(\"\")\n",
    "servidorPublicoSancionado[\"nombre\"] = servidorPublicoSancionado.nombres + \" \" + servidorPublicoSancionado.primerApellido + \" \" + servidorPublicoSancionado.segundoApellido\n",
    "servidorPublicoSancionado[\"nombre\"] = servidorPublicoSancionado[\"nombre\"].str.lower().str.strip()\n",
    "servidorPublicoSancionado[\"nombre\"] = servidorPublicoSancionado[\"nombre\"].str.normalize('NFKD').str.encode('ascii', errors='ignore').str.decode('utf-8')"
   ]
  },
  {
   "cell_type": "code",
   "execution_count": 10,
   "metadata": {},
   "outputs": [
    {
     "data": {
      "text/plain": [
       "nombres               0\n",
       "primerApellido        0\n",
       "segundoApellido       0\n",
       "puesto                0\n",
       "nivel              3199\n",
       "genero.clave       5159\n",
       "genero.valor       5159\n",
       "curp               5547\n",
       "rfc                5547\n",
       "nombre                0\n",
       "dtype: int64"
      ]
     },
     "execution_count": 10,
     "metadata": {},
     "output_type": "execute_result"
    }
   ],
   "source": [
    "servidorPublicoSancionado.isna().sum()"
   ]
  },
  {
   "cell_type": "code",
   "execution_count": 11,
   "metadata": {},
   "outputs": [],
   "source": [
    "inhabilitacion_servidor.fechaInicial =  inhabilitacion_servidor.fechaInicial.apply(parse_date)\n",
    "inhabilitacion_servidor.fechaFinal = inhabilitacion_servidor.fechaFinal.apply(parse_date)"
   ]
  },
  {
   "cell_type": "code",
   "execution_count": 12,
   "metadata": {},
   "outputs": [
    {
     "data": {
      "text/plain": [
       "plazo           864\n",
       "fechaInicial    873\n",
       "fechaFinal      884\n",
       "dtype: int64"
      ]
     },
     "execution_count": 12,
     "metadata": {},
     "output_type": "execute_result"
    }
   ],
   "source": [
    "inhabilitacion_servidor.isna().sum()"
   ]
  },
  {
   "cell_type": "code",
   "execution_count": 13,
   "metadata": {},
   "outputs": [
    {
     "data": {
      "text/html": [
       "<div>\n",
       "<style scoped>\n",
       "    .dataframe tbody tr th:only-of-type {\n",
       "        vertical-align: middle;\n",
       "    }\n",
       "\n",
       "    .dataframe tbody tr th {\n",
       "        vertical-align: top;\n",
       "    }\n",
       "\n",
       "    .dataframe thead th {\n",
       "        text-align: right;\n",
       "    }\n",
       "</style>\n",
       "<table border=\"1\" class=\"dataframe\">\n",
       "  <thead>\n",
       "    <tr style=\"text-align: right;\">\n",
       "      <th></th>\n",
       "      <th>plazo</th>\n",
       "      <th>fechaInicial</th>\n",
       "      <th>fechaFinal</th>\n",
       "    </tr>\n",
       "  </thead>\n",
       "  <tbody>\n",
       "    <tr>\n",
       "      <th>3276</th>\n",
       "      <td>Dato no proporcionado</td>\n",
       "      <td>2014-08-14 00:00:00</td>\n",
       "      <td>NaT</td>\n",
       "    </tr>\n",
       "    <tr>\n",
       "      <th>3340</th>\n",
       "      <td>Dato no proporcionado</td>\n",
       "      <td>2014-08-15 00:00:00</td>\n",
       "      <td>NaT</td>\n",
       "    </tr>\n",
       "    <tr>\n",
       "      <th>3381</th>\n",
       "      <td>Dato no proporcionado</td>\n",
       "      <td>2014-08-15 00:00:00</td>\n",
       "      <td>NaT</td>\n",
       "    </tr>\n",
       "    <tr>\n",
       "      <th>4118</th>\n",
       "      <td>Dato no proporcionado</td>\n",
       "      <td>2014-08-15 00:00:00</td>\n",
       "      <td>NaT</td>\n",
       "    </tr>\n",
       "    <tr>\n",
       "      <th>4160</th>\n",
       "      <td>Dato no proporcionado</td>\n",
       "      <td>2014-08-15 00:00:00</td>\n",
       "      <td>NaT</td>\n",
       "    </tr>\n",
       "    <tr>\n",
       "      <th>4239</th>\n",
       "      <td>Dato no proporcionado</td>\n",
       "      <td>2014-08-15 00:00:00</td>\n",
       "      <td>NaT</td>\n",
       "    </tr>\n",
       "    <tr>\n",
       "      <th>4456</th>\n",
       "      <td>Dato no proporcionado</td>\n",
       "      <td>1998-11-21 00:00:00</td>\n",
       "      <td>NaT</td>\n",
       "    </tr>\n",
       "    <tr>\n",
       "      <th>4678</th>\n",
       "      <td>Dato no proporcionado</td>\n",
       "      <td>2014-08-13 00:00:00</td>\n",
       "      <td>NaT</td>\n",
       "    </tr>\n",
       "    <tr>\n",
       "      <th>5063</th>\n",
       "      <td>Dato no proporcionado</td>\n",
       "      <td>2014-08-15 00:00:00</td>\n",
       "      <td>NaT</td>\n",
       "    </tr>\n",
       "    <tr>\n",
       "      <th>5122</th>\n",
       "      <td>Dato no proporcionado</td>\n",
       "      <td>2001-08-08 00:00:00</td>\n",
       "      <td>NaT</td>\n",
       "    </tr>\n",
       "    <tr>\n",
       "      <th>5546</th>\n",
       "      <td>Dato no proporcionado</td>\n",
       "      <td>2014-08-15 00:00:00</td>\n",
       "      <td>NaT</td>\n",
       "    </tr>\n",
       "  </tbody>\n",
       "</table>\n",
       "</div>"
      ],
      "text/plain": [
       "                      plazo         fechaInicial fechaFinal\n",
       "3276  Dato no proporcionado  2014-08-14 00:00:00        NaT\n",
       "3340  Dato no proporcionado  2014-08-15 00:00:00        NaT\n",
       "3381  Dato no proporcionado  2014-08-15 00:00:00        NaT\n",
       "4118  Dato no proporcionado  2014-08-15 00:00:00        NaT\n",
       "4160  Dato no proporcionado  2014-08-15 00:00:00        NaT\n",
       "4239  Dato no proporcionado  2014-08-15 00:00:00        NaT\n",
       "4456  Dato no proporcionado  1998-11-21 00:00:00        NaT\n",
       "4678  Dato no proporcionado  2014-08-13 00:00:00        NaT\n",
       "5063  Dato no proporcionado  2014-08-15 00:00:00        NaT\n",
       "5122  Dato no proporcionado  2001-08-08 00:00:00        NaT\n",
       "5546  Dato no proporcionado  2014-08-15 00:00:00        NaT"
      ]
     },
     "execution_count": 13,
     "metadata": {},
     "output_type": "execute_result"
    }
   ],
   "source": [
    "mask = (~inhabilitacion_servidor.fechaInicial.isna()) & (inhabilitacion_servidor.fechaFinal.isna())  \n",
    "inhabilitacion_servidor[mask]"
   ]
  },
  {
   "cell_type": "code",
   "execution_count": 14,
   "metadata": {},
   "outputs": [],
   "source": [
    "s3s_df[\"sancion_nombre\"] = servidorPublicoSancionado[\"nombre\"]\n",
    "s3s_df[\"inhabilitacion_fechaInicial\"] = inhabilitacion_servidor.fechaInicial\n",
    "s3s_df[\"inhabilitacion_fechaFinal\"] = inhabilitacion_servidor.fechaFinal"
   ]
  },
  {
   "cell_type": "code",
   "execution_count": 15,
   "metadata": {},
   "outputs": [
    {
     "data": {
      "text/html": [
       "<div>\n",
       "<style scoped>\n",
       "    .dataframe tbody tr th:only-of-type {\n",
       "        vertical-align: middle;\n",
       "    }\n",
       "\n",
       "    .dataframe tbody tr th {\n",
       "        vertical-align: top;\n",
       "    }\n",
       "\n",
       "    .dataframe thead th {\n",
       "        text-align: right;\n",
       "    }\n",
       "</style>\n",
       "<table border=\"1\" class=\"dataframe\">\n",
       "  <thead>\n",
       "    <tr style=\"text-align: right;\">\n",
       "      <th></th>\n",
       "      <th>id</th>\n",
       "      <th>expediente</th>\n",
       "      <th>sancion_nombre</th>\n",
       "      <th>inhabilitacion_fechaInicial</th>\n",
       "      <th>inhabilitacion_fechaFinal</th>\n",
       "      <th>tipo_persona</th>\n",
       "    </tr>\n",
       "  </thead>\n",
       "  <tbody>\n",
       "    <tr>\n",
       "      <th>0</th>\n",
       "      <td>b411f02b-5ea7-489e-93e5-9eca24d090f6</td>\n",
       "      <td>CA/012/2022</td>\n",
       "      <td>andres reyes enriquez</td>\n",
       "      <td>2022-02-15 00:00:00</td>\n",
       "      <td>2022-05-15 00:00:00</td>\n",
       "      <td>servidor_publico</td>\n",
       "    </tr>\n",
       "    <tr>\n",
       "      <th>1</th>\n",
       "      <td>65b3929d-b116-4ba8-9eb6-398baca819fb</td>\n",
       "      <td>CA/001/2022</td>\n",
       "      <td>karina lizbeth valencia perez</td>\n",
       "      <td>2021-12-30 00:00:00</td>\n",
       "      <td>2022-03-30 00:00:00</td>\n",
       "      <td>servidor_publico</td>\n",
       "    </tr>\n",
       "    <tr>\n",
       "      <th>2</th>\n",
       "      <td>b6766222-8804-47f2-b008-f9d693f9133c</td>\n",
       "      <td>CA/007/2022</td>\n",
       "      <td>venamar ramos vera</td>\n",
       "      <td>2022-02-01 00:00:00</td>\n",
       "      <td>2022-05-01 00:00:00</td>\n",
       "      <td>servidor_publico</td>\n",
       "    </tr>\n",
       "    <tr>\n",
       "      <th>3</th>\n",
       "      <td>67bf0c34-1899-4185-9aba-7a1c03bd142b</td>\n",
       "      <td>CA/011/2022</td>\n",
       "      <td>brenda guadalupe becerra bello</td>\n",
       "      <td>2022-02-15 00:00:00</td>\n",
       "      <td>2022-05-15 00:00:00</td>\n",
       "      <td>servidor_publico</td>\n",
       "    </tr>\n",
       "    <tr>\n",
       "      <th>4</th>\n",
       "      <td>1982c64d-e4bc-4ec5-b1bf-cd80c7bc3689</td>\n",
       "      <td>CA/019/2021</td>\n",
       "      <td>armando salazar gonzalez</td>\n",
       "      <td>2021-08-02 00:00:00</td>\n",
       "      <td>2022-02-02 00:00:00</td>\n",
       "      <td>servidor_publico</td>\n",
       "    </tr>\n",
       "  </tbody>\n",
       "</table>\n",
       "</div>"
      ],
      "text/plain": [
       "                                     id   expediente  \\\n",
       "0  b411f02b-5ea7-489e-93e5-9eca24d090f6  CA/012/2022   \n",
       "1  65b3929d-b116-4ba8-9eb6-398baca819fb  CA/001/2022   \n",
       "2  b6766222-8804-47f2-b008-f9d693f9133c  CA/007/2022   \n",
       "3  67bf0c34-1899-4185-9aba-7a1c03bd142b  CA/011/2022   \n",
       "4  1982c64d-e4bc-4ec5-b1bf-cd80c7bc3689  CA/019/2021   \n",
       "\n",
       "                   sancion_nombre inhabilitacion_fechaInicial  \\\n",
       "0           andres reyes enriquez         2022-02-15 00:00:00   \n",
       "1   karina lizbeth valencia perez         2021-12-30 00:00:00   \n",
       "2              venamar ramos vera         2022-02-01 00:00:00   \n",
       "3  brenda guadalupe becerra bello         2022-02-15 00:00:00   \n",
       "4        armando salazar gonzalez         2021-08-02 00:00:00   \n",
       "\n",
       "  inhabilitacion_fechaFinal      tipo_persona  \n",
       "0       2022-05-15 00:00:00  servidor_publico  \n",
       "1       2022-03-30 00:00:00  servidor_publico  \n",
       "2       2022-05-01 00:00:00  servidor_publico  \n",
       "3       2022-05-15 00:00:00  servidor_publico  \n",
       "4       2022-02-02 00:00:00  servidor_publico  "
      ]
     },
     "execution_count": 15,
     "metadata": {},
     "output_type": "execute_result"
    }
   ],
   "source": [
    "columnas = [\"id\", \"expediente\", \"sancion_nombre\", \"inhabilitacion_fechaInicial\", \"inhabilitacion_fechaFinal\"]\n",
    "s3s_df = s3s_df[columnas]\n",
    "s3s_df[\"tipo_persona\"] = \"servidor_publico\"\n",
    "s3s_df.head()"
   ]
  },
  {
   "cell_type": "markdown",
   "metadata": {},
   "source": [
    "# Combinar datasets"
   ]
  },
  {
   "cell_type": "code",
   "execution_count": 16,
   "metadata": {},
   "outputs": [
    {
     "data": {
      "text/html": [
       "<div>\n",
       "<style scoped>\n",
       "    .dataframe tbody tr th:only-of-type {\n",
       "        vertical-align: middle;\n",
       "    }\n",
       "\n",
       "    .dataframe tbody tr th {\n",
       "        vertical-align: top;\n",
       "    }\n",
       "\n",
       "    .dataframe thead th {\n",
       "        text-align: right;\n",
       "    }\n",
       "</style>\n",
       "<table border=\"1\" class=\"dataframe\">\n",
       "  <thead>\n",
       "    <tr style=\"text-align: right;\">\n",
       "      <th></th>\n",
       "      <th>id</th>\n",
       "      <th>expediente</th>\n",
       "      <th>sancion_nombre</th>\n",
       "      <th>sancion_tipoPersona</th>\n",
       "      <th>sancion_objetoSocial</th>\n",
       "      <th>inhabilitacion_fechaInicial</th>\n",
       "      <th>inhabilitacion_fechaFinal</th>\n",
       "      <th>tipo_persona</th>\n",
       "    </tr>\n",
       "  </thead>\n",
       "  <tbody>\n",
       "    <tr>\n",
       "      <th>0</th>\n",
       "      <td>a56b34a6-57c7-42b9-bb60-e214a65db391</td>\n",
       "      <td>PRA/68/2021</td>\n",
       "      <td>ofimagen sociedad anonima de capital variable</td>\n",
       "      <td>M</td>\n",
       "      <td>NaN</td>\n",
       "      <td>NaT</td>\n",
       "      <td>NaT</td>\n",
       "      <td>particular</td>\n",
       "    </tr>\n",
       "    <tr>\n",
       "      <th>1</th>\n",
       "      <td>622799f073ed865c36ba7cd5</td>\n",
       "      <td>07/2018</td>\n",
       "      <td>pedro barrueta escobar</td>\n",
       "      <td>F</td>\n",
       "      <td>FISICA</td>\n",
       "      <td>NaT</td>\n",
       "      <td>NaT</td>\n",
       "      <td>particular</td>\n",
       "    </tr>\n",
       "    <tr>\n",
       "      <th>2</th>\n",
       "      <td>622799f173ed865c36ba7cda</td>\n",
       "      <td>13/2019</td>\n",
       "      <td>monica virginia martinez bringas</td>\n",
       "      <td>F</td>\n",
       "      <td>PERSONA FÍSICA</td>\n",
       "      <td>NaT</td>\n",
       "      <td>NaT</td>\n",
       "      <td>particular</td>\n",
       "    </tr>\n",
       "    <tr>\n",
       "      <th>3</th>\n",
       "      <td>622799f173ed865c36ba7cdf</td>\n",
       "      <td>37/2020</td>\n",
       "      <td>rodriguez venegas iris ivonne</td>\n",
       "      <td>F</td>\n",
       "      <td>SD</td>\n",
       "      <td>NaT</td>\n",
       "      <td>NaT</td>\n",
       "      <td>particular</td>\n",
       "    </tr>\n",
       "    <tr>\n",
       "      <th>4</th>\n",
       "      <td>6317b5dd055a2a7017d97424</td>\n",
       "      <td>01/2021</td>\n",
       "      <td>proyectos y construcciones  r&amp;m, sociedad anon...</td>\n",
       "      <td>F</td>\n",
       "      <td>LA CONSTRUCCIÓN, REMODELACIÓN, MANTENIMIENTO, ...</td>\n",
       "      <td>NaT</td>\n",
       "      <td>NaT</td>\n",
       "      <td>particular</td>\n",
       "    </tr>\n",
       "  </tbody>\n",
       "</table>\n",
       "</div>"
      ],
      "text/plain": [
       "                                     id   expediente  \\\n",
       "0  a56b34a6-57c7-42b9-bb60-e214a65db391  PRA/68/2021   \n",
       "1              622799f073ed865c36ba7cd5      07/2018   \n",
       "2              622799f173ed865c36ba7cda      13/2019   \n",
       "3              622799f173ed865c36ba7cdf      37/2020   \n",
       "4              6317b5dd055a2a7017d97424      01/2021   \n",
       "\n",
       "                                      sancion_nombre sancion_tipoPersona  \\\n",
       "0      ofimagen sociedad anonima de capital variable                   M   \n",
       "1                             pedro barrueta escobar                   F   \n",
       "2                   monica virginia martinez bringas                   F   \n",
       "3                      rodriguez venegas iris ivonne                   F   \n",
       "4  proyectos y construcciones  r&m, sociedad anon...                   F   \n",
       "\n",
       "                                sancion_objetoSocial  \\\n",
       "0                                                NaN   \n",
       "1                                             FISICA   \n",
       "2                                     PERSONA FÍSICA   \n",
       "3                                                 SD   \n",
       "4  LA CONSTRUCCIÓN, REMODELACIÓN, MANTENIMIENTO, ...   \n",
       "\n",
       "  inhabilitacion_fechaInicial inhabilitacion_fechaFinal tipo_persona  \n",
       "0                         NaT                       NaT   particular  \n",
       "1                         NaT                       NaT   particular  \n",
       "2                         NaT                       NaT   particular  \n",
       "3                         NaT                       NaT   particular  \n",
       "4                         NaT                       NaT   particular  "
      ]
     },
     "execution_count": 16,
     "metadata": {},
     "output_type": "execute_result"
    }
   ],
   "source": [
    "df = pd.concat([s3p_df,s3s_df]).reset_index(drop = True)\n",
    "df.head()"
   ]
  },
  {
   "cell_type": "code",
   "execution_count": 17,
   "metadata": {},
   "outputs": [],
   "source": [
    "df.to_pickle(\"inhabilitaciones.pkl\")"
   ]
  }
 ],
 "metadata": {
  "kernelspec": {
   "display_name": ".venv",
   "language": "python",
   "name": "python3"
  },
  "language_info": {
   "codemirror_mode": {
    "name": "ipython",
    "version": 3
   },
   "file_extension": ".py",
   "mimetype": "text/x-python",
   "name": "python",
   "nbconvert_exporter": "python",
   "pygments_lexer": "ipython3",
   "version": "3.11.4"
  }
 },
 "nbformat": 4,
 "nbformat_minor": 2
}
